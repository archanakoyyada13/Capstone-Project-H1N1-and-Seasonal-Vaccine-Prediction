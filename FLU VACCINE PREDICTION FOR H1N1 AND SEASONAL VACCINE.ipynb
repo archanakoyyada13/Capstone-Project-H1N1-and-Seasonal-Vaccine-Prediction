{
 "cells": [
  {
   "cell_type": "markdown",
   "id": "f0fe95db",
   "metadata": {},
   "source": [
    "PROBLEM STATEMENT:To predict how likely individuals are to receive their H1N1 and seasonal flu vaccines"
   ]
  },
  {
   "cell_type": "code",
   "execution_count": 99,
   "id": "3052d0d4",
   "metadata": {},
   "outputs": [],
   "source": [
    "import pandas as pd \n",
    "import numpy as np\n",
    "import matplotlib.pyplot as plt\n",
    "%matplotlib inline"
   ]
  },
  {
   "cell_type": "code",
   "execution_count": 100,
   "id": "5862a2d7",
   "metadata": {},
   "outputs": [],
   "source": [
    "#setting  up working directory folder\n",
    "import os\n",
    "os.chdir('C:/Users/91918/OneDrive/Desktop/Datasets')"
   ]
  },
  {
   "cell_type": "code",
   "execution_count": 101,
   "id": "f58f20fa",
   "metadata": {},
   "outputs": [],
   "source": [
    "x_train=pd.read_csv(\"training_set_features.csv\")"
   ]
  },
  {
   "cell_type": "code",
   "execution_count": 102,
   "id": "fc6c440d",
   "metadata": {},
   "outputs": [],
   "source": [
    "x_test=pd.read_csv(\"test_set_features.csv\")"
   ]
  },
  {
   "cell_type": "code",
   "execution_count": 103,
   "id": "2bc5966a",
   "metadata": {},
   "outputs": [],
   "source": [
    "y_labels=pd.read_csv(\"training_set_labels.csv\")"
   ]
  },
  {
   "cell_type": "code",
   "execution_count": 104,
   "id": "3b8e8c44",
   "metadata": {},
   "outputs": [
    {
     "data": {
      "text/html": [
       "<div>\n",
       "<style scoped>\n",
       "    .dataframe tbody tr th:only-of-type {\n",
       "        vertical-align: middle;\n",
       "    }\n",
       "\n",
       "    .dataframe tbody tr th {\n",
       "        vertical-align: top;\n",
       "    }\n",
       "\n",
       "    .dataframe thead th {\n",
       "        text-align: right;\n",
       "    }\n",
       "</style>\n",
       "<table border=\"1\" class=\"dataframe\">\n",
       "  <thead>\n",
       "    <tr style=\"text-align: right;\">\n",
       "      <th></th>\n",
       "      <th>respondent_id</th>\n",
       "      <th>h1n1_concern</th>\n",
       "      <th>h1n1_knowledge</th>\n",
       "      <th>behavioral_antiviral_meds</th>\n",
       "      <th>behavioral_avoidance</th>\n",
       "      <th>behavioral_face_mask</th>\n",
       "      <th>behavioral_wash_hands</th>\n",
       "      <th>behavioral_large_gatherings</th>\n",
       "      <th>behavioral_outside_home</th>\n",
       "      <th>behavioral_touch_face</th>\n",
       "      <th>...</th>\n",
       "      <th>income_poverty</th>\n",
       "      <th>marital_status</th>\n",
       "      <th>rent_or_own</th>\n",
       "      <th>employment_status</th>\n",
       "      <th>hhs_geo_region</th>\n",
       "      <th>census_msa</th>\n",
       "      <th>household_adults</th>\n",
       "      <th>household_children</th>\n",
       "      <th>employment_industry</th>\n",
       "      <th>employment_occupation</th>\n",
       "    </tr>\n",
       "  </thead>\n",
       "  <tbody>\n",
       "    <tr>\n",
       "      <th>0</th>\n",
       "      <td>0</td>\n",
       "      <td>1.0</td>\n",
       "      <td>0.0</td>\n",
       "      <td>0.0</td>\n",
       "      <td>0.0</td>\n",
       "      <td>0.0</td>\n",
       "      <td>0.0</td>\n",
       "      <td>0.0</td>\n",
       "      <td>1.0</td>\n",
       "      <td>1.0</td>\n",
       "      <td>...</td>\n",
       "      <td>Below Poverty</td>\n",
       "      <td>Not Married</td>\n",
       "      <td>Own</td>\n",
       "      <td>Not in Labor Force</td>\n",
       "      <td>oxchjgsf</td>\n",
       "      <td>Non-MSA</td>\n",
       "      <td>0.0</td>\n",
       "      <td>0.0</td>\n",
       "      <td>NaN</td>\n",
       "      <td>NaN</td>\n",
       "    </tr>\n",
       "    <tr>\n",
       "      <th>1</th>\n",
       "      <td>1</td>\n",
       "      <td>3.0</td>\n",
       "      <td>2.0</td>\n",
       "      <td>0.0</td>\n",
       "      <td>1.0</td>\n",
       "      <td>0.0</td>\n",
       "      <td>1.0</td>\n",
       "      <td>0.0</td>\n",
       "      <td>1.0</td>\n",
       "      <td>1.0</td>\n",
       "      <td>...</td>\n",
       "      <td>Below Poverty</td>\n",
       "      <td>Not Married</td>\n",
       "      <td>Rent</td>\n",
       "      <td>Employed</td>\n",
       "      <td>bhuqouqj</td>\n",
       "      <td>MSA, Not Principle  City</td>\n",
       "      <td>0.0</td>\n",
       "      <td>0.0</td>\n",
       "      <td>pxcmvdjn</td>\n",
       "      <td>xgwztkwe</td>\n",
       "    </tr>\n",
       "    <tr>\n",
       "      <th>2</th>\n",
       "      <td>2</td>\n",
       "      <td>1.0</td>\n",
       "      <td>1.0</td>\n",
       "      <td>0.0</td>\n",
       "      <td>1.0</td>\n",
       "      <td>0.0</td>\n",
       "      <td>0.0</td>\n",
       "      <td>0.0</td>\n",
       "      <td>0.0</td>\n",
       "      <td>0.0</td>\n",
       "      <td>...</td>\n",
       "      <td>&lt;= $75,000, Above Poverty</td>\n",
       "      <td>Not Married</td>\n",
       "      <td>Own</td>\n",
       "      <td>Employed</td>\n",
       "      <td>qufhixun</td>\n",
       "      <td>MSA, Not Principle  City</td>\n",
       "      <td>2.0</td>\n",
       "      <td>0.0</td>\n",
       "      <td>rucpziij</td>\n",
       "      <td>xtkaffoo</td>\n",
       "    </tr>\n",
       "    <tr>\n",
       "      <th>3</th>\n",
       "      <td>3</td>\n",
       "      <td>1.0</td>\n",
       "      <td>1.0</td>\n",
       "      <td>0.0</td>\n",
       "      <td>1.0</td>\n",
       "      <td>0.0</td>\n",
       "      <td>1.0</td>\n",
       "      <td>1.0</td>\n",
       "      <td>0.0</td>\n",
       "      <td>0.0</td>\n",
       "      <td>...</td>\n",
       "      <td>Below Poverty</td>\n",
       "      <td>Not Married</td>\n",
       "      <td>Rent</td>\n",
       "      <td>Not in Labor Force</td>\n",
       "      <td>lrircsnp</td>\n",
       "      <td>MSA, Principle City</td>\n",
       "      <td>0.0</td>\n",
       "      <td>0.0</td>\n",
       "      <td>NaN</td>\n",
       "      <td>NaN</td>\n",
       "    </tr>\n",
       "    <tr>\n",
       "      <th>4</th>\n",
       "      <td>4</td>\n",
       "      <td>2.0</td>\n",
       "      <td>1.0</td>\n",
       "      <td>0.0</td>\n",
       "      <td>1.0</td>\n",
       "      <td>0.0</td>\n",
       "      <td>1.0</td>\n",
       "      <td>1.0</td>\n",
       "      <td>0.0</td>\n",
       "      <td>1.0</td>\n",
       "      <td>...</td>\n",
       "      <td>&lt;= $75,000, Above Poverty</td>\n",
       "      <td>Married</td>\n",
       "      <td>Own</td>\n",
       "      <td>Employed</td>\n",
       "      <td>qufhixun</td>\n",
       "      <td>MSA, Not Principle  City</td>\n",
       "      <td>1.0</td>\n",
       "      <td>0.0</td>\n",
       "      <td>wxleyezf</td>\n",
       "      <td>emcorrxb</td>\n",
       "    </tr>\n",
       "  </tbody>\n",
       "</table>\n",
       "<p>5 rows × 36 columns</p>\n",
       "</div>"
      ],
      "text/plain": [
       "   respondent_id  h1n1_concern  h1n1_knowledge  behavioral_antiviral_meds  \\\n",
       "0              0           1.0             0.0                        0.0   \n",
       "1              1           3.0             2.0                        0.0   \n",
       "2              2           1.0             1.0                        0.0   \n",
       "3              3           1.0             1.0                        0.0   \n",
       "4              4           2.0             1.0                        0.0   \n",
       "\n",
       "   behavioral_avoidance  behavioral_face_mask  behavioral_wash_hands  \\\n",
       "0                   0.0                   0.0                    0.0   \n",
       "1                   1.0                   0.0                    1.0   \n",
       "2                   1.0                   0.0                    0.0   \n",
       "3                   1.0                   0.0                    1.0   \n",
       "4                   1.0                   0.0                    1.0   \n",
       "\n",
       "   behavioral_large_gatherings  behavioral_outside_home  \\\n",
       "0                          0.0                      1.0   \n",
       "1                          0.0                      1.0   \n",
       "2                          0.0                      0.0   \n",
       "3                          1.0                      0.0   \n",
       "4                          1.0                      0.0   \n",
       "\n",
       "   behavioral_touch_face  ...             income_poverty  marital_status  \\\n",
       "0                    1.0  ...              Below Poverty     Not Married   \n",
       "1                    1.0  ...              Below Poverty     Not Married   \n",
       "2                    0.0  ...  <= $75,000, Above Poverty     Not Married   \n",
       "3                    0.0  ...              Below Poverty     Not Married   \n",
       "4                    1.0  ...  <= $75,000, Above Poverty         Married   \n",
       "\n",
       "   rent_or_own   employment_status  hhs_geo_region                census_msa  \\\n",
       "0          Own  Not in Labor Force        oxchjgsf                   Non-MSA   \n",
       "1         Rent            Employed        bhuqouqj  MSA, Not Principle  City   \n",
       "2          Own            Employed        qufhixun  MSA, Not Principle  City   \n",
       "3         Rent  Not in Labor Force        lrircsnp       MSA, Principle City   \n",
       "4          Own            Employed        qufhixun  MSA, Not Principle  City   \n",
       "\n",
       "   household_adults  household_children  employment_industry  \\\n",
       "0               0.0                 0.0                  NaN   \n",
       "1               0.0                 0.0             pxcmvdjn   \n",
       "2               2.0                 0.0             rucpziij   \n",
       "3               0.0                 0.0                  NaN   \n",
       "4               1.0                 0.0             wxleyezf   \n",
       "\n",
       "   employment_occupation  \n",
       "0                    NaN  \n",
       "1               xgwztkwe  \n",
       "2               xtkaffoo  \n",
       "3                    NaN  \n",
       "4               emcorrxb  \n",
       "\n",
       "[5 rows x 36 columns]"
      ]
     },
     "execution_count": 104,
     "metadata": {},
     "output_type": "execute_result"
    }
   ],
   "source": [
    "x_train.head()"
   ]
  },
  {
   "cell_type": "code",
   "execution_count": 105,
   "id": "d8944e0d",
   "metadata": {},
   "outputs": [
    {
     "data": {
      "text/plain": [
       "respondent_id                    int64\n",
       "h1n1_concern                   float64\n",
       "h1n1_knowledge                 float64\n",
       "behavioral_antiviral_meds      float64\n",
       "behavioral_avoidance           float64\n",
       "behavioral_face_mask           float64\n",
       "behavioral_wash_hands          float64\n",
       "behavioral_large_gatherings    float64\n",
       "behavioral_outside_home        float64\n",
       "behavioral_touch_face          float64\n",
       "doctor_recc_h1n1               float64\n",
       "doctor_recc_seasonal           float64\n",
       "chronic_med_condition          float64\n",
       "child_under_6_months           float64\n",
       "health_worker                  float64\n",
       "health_insurance               float64\n",
       "opinion_h1n1_vacc_effective    float64\n",
       "opinion_h1n1_risk              float64\n",
       "opinion_h1n1_sick_from_vacc    float64\n",
       "opinion_seas_vacc_effective    float64\n",
       "opinion_seas_risk              float64\n",
       "opinion_seas_sick_from_vacc    float64\n",
       "age_group                       object\n",
       "education                       object\n",
       "race                            object\n",
       "sex                             object\n",
       "income_poverty                  object\n",
       "marital_status                  object\n",
       "rent_or_own                     object\n",
       "employment_status               object\n",
       "hhs_geo_region                  object\n",
       "census_msa                      object\n",
       "household_adults               float64\n",
       "household_children             float64\n",
       "employment_industry             object\n",
       "employment_occupation           object\n",
       "dtype: object"
      ]
     },
     "execution_count": 105,
     "metadata": {},
     "output_type": "execute_result"
    }
   ],
   "source": [
    "x_train .dtypes"
   ]
  },
  {
   "cell_type": "code",
   "execution_count": 106,
   "id": "e72f3c8f",
   "metadata": {},
   "outputs": [
    {
     "name": "stdout",
     "output_type": "stream",
     "text": [
      "(26707, 36)\n",
      "(26708, 36)\n",
      "(26707, 3)\n"
     ]
    }
   ],
   "source": [
    "print(x_train.shape)\n",
    "print(x_test.shape)\n",
    "print(y_labels.shape)"
   ]
  },
  {
   "cell_type": "code",
   "execution_count": 107,
   "id": "517ba199",
   "metadata": {},
   "outputs": [
    {
     "data": {
      "text/plain": [
       "employment_occupation          13470\n",
       "employment_industry            13330\n",
       "health_insurance               12274\n",
       "income_poverty                  4423\n",
       "doctor_recc_h1n1                2160\n",
       "doctor_recc_seasonal            2160\n",
       "rent_or_own                     2042\n",
       "employment_status               1463\n",
       "marital_status                  1408\n",
       "education                       1407\n",
       "chronic_med_condition            971\n",
       "child_under_6_months             820\n",
       "health_worker                    804\n",
       "opinion_seas_sick_from_vacc      537\n",
       "opinion_seas_risk                514\n",
       "opinion_seas_vacc_effective      462\n",
       "opinion_h1n1_sick_from_vacc      395\n",
       "opinion_h1n1_vacc_effective      391\n",
       "opinion_h1n1_risk                388\n",
       "household_children               249\n",
       "household_adults                 249\n",
       "behavioral_avoidance             208\n",
       "behavioral_touch_face            128\n",
       "h1n1_knowledge                   116\n",
       "h1n1_concern                      92\n",
       "behavioral_large_gatherings       87\n",
       "behavioral_outside_home           82\n",
       "behavioral_antiviral_meds         71\n",
       "behavioral_wash_hands             42\n",
       "behavioral_face_mask              19\n",
       "hhs_geo_region                     0\n",
       "census_msa                         0\n",
       "sex                                0\n",
       "race                               0\n",
       "age_group                          0\n",
       "respondent_id                      0\n",
       "dtype: int64"
      ]
     },
     "execution_count": 107,
     "metadata": {},
     "output_type": "execute_result"
    }
   ],
   "source": [
    "# missing value imptation\n",
    "x_train.isnull().sum().sort_values(ascending=False)"
   ]
  },
  {
   "cell_type": "code",
   "execution_count": 108,
   "id": "050196eb",
   "metadata": {},
   "outputs": [
    {
     "data": {
      "text/plain": [
       "employment_occupation          13426\n",
       "employment_industry            13275\n",
       "health_insurance               12228\n",
       "income_poverty                  4497\n",
       "doctor_recc_h1n1                2160\n",
       "doctor_recc_seasonal            2160\n",
       "rent_or_own                     2036\n",
       "employment_status               1471\n",
       "marital_status                  1442\n",
       "education                       1407\n",
       "chronic_med_condition            932\n",
       "child_under_6_months             813\n",
       "health_worker                    789\n",
       "opinion_seas_sick_from_vacc      521\n",
       "opinion_seas_risk                499\n",
       "opinion_seas_vacc_effective      452\n",
       "opinion_h1n1_vacc_effective      398\n",
       "opinion_h1n1_risk                380\n",
       "opinion_h1n1_sick_from_vacc      375\n",
       "household_children               225\n",
       "household_adults                 225\n",
       "behavioral_avoidance             213\n",
       "behavioral_touch_face            128\n",
       "h1n1_knowledge                   122\n",
       "h1n1_concern                      85\n",
       "behavioral_outside_home           82\n",
       "behavioral_antiviral_meds         79\n",
       "behavioral_large_gatherings       72\n",
       "behavioral_wash_hands             40\n",
       "behavioral_face_mask              19\n",
       "hhs_geo_region                     0\n",
       "census_msa                         0\n",
       "sex                                0\n",
       "race                               0\n",
       "age_group                          0\n",
       "respondent_id                      0\n",
       "dtype: int64"
      ]
     },
     "execution_count": 108,
     "metadata": {},
     "output_type": "execute_result"
    }
   ],
   "source": [
    "x_test.isnull().sum().sort_values(ascending=False)"
   ]
  },
  {
   "cell_type": "code",
   "execution_count": 109,
   "id": "714f489b",
   "metadata": {},
   "outputs": [],
   "source": [
    "# Since there are missing values in both Train and Test Set Im combining both the Datasets\n",
    "combinedf = pd.concat([x_train,x_test],axis=0) # Row Concatenation "
   ]
  },
  {
   "cell_type": "code",
   "execution_count": 110,
   "id": "98fe3c65",
   "metadata": {},
   "outputs": [
    {
     "name": "stdout",
     "output_type": "stream",
     "text": [
      "<class 'pandas.core.frame.DataFrame'>\n",
      "Int64Index: 53415 entries, 0 to 26707\n",
      "Data columns (total 36 columns):\n",
      " #   Column                       Non-Null Count  Dtype  \n",
      "---  ------                       --------------  -----  \n",
      " 0   respondent_id                53415 non-null  int64  \n",
      " 1   h1n1_concern                 53238 non-null  float64\n",
      " 2   h1n1_knowledge               53177 non-null  float64\n",
      " 3   behavioral_antiviral_meds    53265 non-null  float64\n",
      " 4   behavioral_avoidance         52994 non-null  float64\n",
      " 5   behavioral_face_mask         53377 non-null  float64\n",
      " 6   behavioral_wash_hands        53333 non-null  float64\n",
      " 7   behavioral_large_gatherings  53256 non-null  float64\n",
      " 8   behavioral_outside_home      53251 non-null  float64\n",
      " 9   behavioral_touch_face        53159 non-null  float64\n",
      " 10  doctor_recc_h1n1             49095 non-null  float64\n",
      " 11  doctor_recc_seasonal         49095 non-null  float64\n",
      " 12  chronic_med_condition        51512 non-null  float64\n",
      " 13  child_under_6_months         51782 non-null  float64\n",
      " 14  health_worker                51822 non-null  float64\n",
      " 15  health_insurance             28913 non-null  float64\n",
      " 16  opinion_h1n1_vacc_effective  52626 non-null  float64\n",
      " 17  opinion_h1n1_risk            52647 non-null  float64\n",
      " 18  opinion_h1n1_sick_from_vacc  52645 non-null  float64\n",
      " 19  opinion_seas_vacc_effective  52501 non-null  float64\n",
      " 20  opinion_seas_risk            52402 non-null  float64\n",
      " 21  opinion_seas_sick_from_vacc  52357 non-null  float64\n",
      " 22  age_group                    53415 non-null  object \n",
      " 23  education                    50601 non-null  object \n",
      " 24  race                         53415 non-null  object \n",
      " 25  sex                          53415 non-null  object \n",
      " 26  income_poverty               44495 non-null  object \n",
      " 27  marital_status               50565 non-null  object \n",
      " 28  rent_or_own                  49337 non-null  object \n",
      " 29  employment_status            50481 non-null  object \n",
      " 30  hhs_geo_region               53415 non-null  object \n",
      " 31  census_msa                   53415 non-null  object \n",
      " 32  household_adults             52941 non-null  float64\n",
      " 33  household_children           52941 non-null  float64\n",
      " 34  employment_industry          26810 non-null  object \n",
      " 35  employment_occupation        26519 non-null  object \n",
      "dtypes: float64(23), int64(1), object(12)\n",
      "memory usage: 15.1+ MB\n"
     ]
    }
   ],
   "source": [
    "combinedf.info()\n",
    "# Many Variables have Null Values "
   ]
  },
  {
   "cell_type": "markdown",
   "id": "506375b4",
   "metadata": {},
   "source": [
    " missing value algorithm   knn imputer based on k-nearest neighbhors algorithm\n",
    "k nearest algorithm is one of the algorithm which is a distance matrix\n",
    "missing value and the closet to distance neighbour will be used for computatation\n"
   ]
  },
  {
   "cell_type": "code",
   "execution_count": 111,
   "id": "8e6be349",
   "metadata": {},
   "outputs": [],
   "source": [
    "from sklearn.preprocessing import LabelEncoder\n"
   ]
  },
  {
   "cell_type": "code",
   "execution_count": 112,
   "id": "a3fd1664",
   "metadata": {},
   "outputs": [],
   "source": [
    "stringcols=combinedf.drop(['respondent_id'],axis=1)"
   ]
  },
  {
   "cell_type": "code",
   "execution_count": 113,
   "id": "1c17954d",
   "metadata": {},
   "outputs": [],
   "source": [
    "stringcols=stringcols.astype(str).apply(lambda series:pd.Series(\n",
    "LabelEncoder().fit_transform(series[series.notnull()]),\n",
    "index = series[series.notnull()].index))"
   ]
  },
  {
   "cell_type": "code",
   "execution_count": 114,
   "id": "9c7a7253",
   "metadata": {},
   "outputs": [],
   "source": [
    "from sklearn.impute import KNNImputer"
   ]
  },
  {
   "cell_type": "code",
   "execution_count": 115,
   "id": "0d978a5b",
   "metadata": {},
   "outputs": [],
   "source": [
    "imputer = KNNImputer()"
   ]
  },
  {
   "cell_type": "code",
   "execution_count": 116,
   "id": "8851d21c",
   "metadata": {},
   "outputs": [],
   "source": [
    "stringcolsimp = imputer.fit_transform(stringcols)"
   ]
  },
  {
   "cell_type": "code",
   "execution_count": 117,
   "id": "530e85bd",
   "metadata": {},
   "outputs": [],
   "source": [
    "stringcolsimp = pd.DataFrame(stringcolsimp,columns=stringcols.columns)"
   ]
  },
  {
   "cell_type": "code",
   "execution_count": 118,
   "id": "0adeb953",
   "metadata": {},
   "outputs": [
    {
     "data": {
      "text/html": [
       "<div>\n",
       "<style scoped>\n",
       "    .dataframe tbody tr th:only-of-type {\n",
       "        vertical-align: middle;\n",
       "    }\n",
       "\n",
       "    .dataframe tbody tr th {\n",
       "        vertical-align: top;\n",
       "    }\n",
       "\n",
       "    .dataframe thead th {\n",
       "        text-align: right;\n",
       "    }\n",
       "</style>\n",
       "<table border=\"1\" class=\"dataframe\">\n",
       "  <thead>\n",
       "    <tr style=\"text-align: right;\">\n",
       "      <th></th>\n",
       "      <th>h1n1_concern</th>\n",
       "      <th>h1n1_knowledge</th>\n",
       "      <th>behavioral_antiviral_meds</th>\n",
       "      <th>behavioral_avoidance</th>\n",
       "      <th>behavioral_face_mask</th>\n",
       "      <th>behavioral_wash_hands</th>\n",
       "      <th>behavioral_large_gatherings</th>\n",
       "      <th>behavioral_outside_home</th>\n",
       "      <th>behavioral_touch_face</th>\n",
       "      <th>doctor_recc_h1n1</th>\n",
       "      <th>...</th>\n",
       "      <th>income_poverty</th>\n",
       "      <th>marital_status</th>\n",
       "      <th>rent_or_own</th>\n",
       "      <th>employment_status</th>\n",
       "      <th>hhs_geo_region</th>\n",
       "      <th>census_msa</th>\n",
       "      <th>household_adults</th>\n",
       "      <th>household_children</th>\n",
       "      <th>employment_industry</th>\n",
       "      <th>employment_occupation</th>\n",
       "    </tr>\n",
       "  </thead>\n",
       "  <tbody>\n",
       "    <tr>\n",
       "      <th>0</th>\n",
       "      <td>1.0</td>\n",
       "      <td>0.0</td>\n",
       "      <td>0.0</td>\n",
       "      <td>0.0</td>\n",
       "      <td>0.0</td>\n",
       "      <td>0.0</td>\n",
       "      <td>0.0</td>\n",
       "      <td>1.0</td>\n",
       "      <td>1.0</td>\n",
       "      <td>0.0</td>\n",
       "      <td>...</td>\n",
       "      <td>2.0</td>\n",
       "      <td>1.0</td>\n",
       "      <td>0.0</td>\n",
       "      <td>1.0</td>\n",
       "      <td>8.0</td>\n",
       "      <td>2.0</td>\n",
       "      <td>0.0</td>\n",
       "      <td>0.0</td>\n",
       "      <td>10.0</td>\n",
       "      <td>11.0</td>\n",
       "    </tr>\n",
       "    <tr>\n",
       "      <th>1</th>\n",
       "      <td>3.0</td>\n",
       "      <td>2.0</td>\n",
       "      <td>0.0</td>\n",
       "      <td>1.0</td>\n",
       "      <td>0.0</td>\n",
       "      <td>1.0</td>\n",
       "      <td>0.0</td>\n",
       "      <td>1.0</td>\n",
       "      <td>1.0</td>\n",
       "      <td>0.0</td>\n",
       "      <td>...</td>\n",
       "      <td>2.0</td>\n",
       "      <td>1.0</td>\n",
       "      <td>1.0</td>\n",
       "      <td>0.0</td>\n",
       "      <td>1.0</td>\n",
       "      <td>0.0</td>\n",
       "      <td>0.0</td>\n",
       "      <td>0.0</td>\n",
       "      <td>13.0</td>\n",
       "      <td>20.0</td>\n",
       "    </tr>\n",
       "    <tr>\n",
       "      <th>2</th>\n",
       "      <td>1.0</td>\n",
       "      <td>1.0</td>\n",
       "      <td>0.0</td>\n",
       "      <td>1.0</td>\n",
       "      <td>0.0</td>\n",
       "      <td>0.0</td>\n",
       "      <td>0.0</td>\n",
       "      <td>0.0</td>\n",
       "      <td>0.0</td>\n",
       "      <td>2.0</td>\n",
       "      <td>...</td>\n",
       "      <td>0.0</td>\n",
       "      <td>1.0</td>\n",
       "      <td>0.0</td>\n",
       "      <td>0.0</td>\n",
       "      <td>9.0</td>\n",
       "      <td>0.0</td>\n",
       "      <td>2.0</td>\n",
       "      <td>0.0</td>\n",
       "      <td>15.0</td>\n",
       "      <td>22.0</td>\n",
       "    </tr>\n",
       "    <tr>\n",
       "      <th>3</th>\n",
       "      <td>1.0</td>\n",
       "      <td>1.0</td>\n",
       "      <td>0.0</td>\n",
       "      <td>1.0</td>\n",
       "      <td>0.0</td>\n",
       "      <td>1.0</td>\n",
       "      <td>1.0</td>\n",
       "      <td>0.0</td>\n",
       "      <td>0.0</td>\n",
       "      <td>0.0</td>\n",
       "      <td>...</td>\n",
       "      <td>2.0</td>\n",
       "      <td>1.0</td>\n",
       "      <td>1.0</td>\n",
       "      <td>1.0</td>\n",
       "      <td>5.0</td>\n",
       "      <td>1.0</td>\n",
       "      <td>0.0</td>\n",
       "      <td>0.0</td>\n",
       "      <td>10.0</td>\n",
       "      <td>11.0</td>\n",
       "    </tr>\n",
       "    <tr>\n",
       "      <th>4</th>\n",
       "      <td>2.0</td>\n",
       "      <td>1.0</td>\n",
       "      <td>0.0</td>\n",
       "      <td>1.0</td>\n",
       "      <td>0.0</td>\n",
       "      <td>1.0</td>\n",
       "      <td>1.0</td>\n",
       "      <td>0.0</td>\n",
       "      <td>1.0</td>\n",
       "      <td>0.0</td>\n",
       "      <td>...</td>\n",
       "      <td>0.0</td>\n",
       "      <td>0.0</td>\n",
       "      <td>0.0</td>\n",
       "      <td>0.0</td>\n",
       "      <td>9.0</td>\n",
       "      <td>0.0</td>\n",
       "      <td>1.0</td>\n",
       "      <td>0.0</td>\n",
       "      <td>19.0</td>\n",
       "      <td>5.0</td>\n",
       "    </tr>\n",
       "  </tbody>\n",
       "</table>\n",
       "<p>5 rows × 35 columns</p>\n",
       "</div>"
      ],
      "text/plain": [
       "   h1n1_concern  h1n1_knowledge  behavioral_antiviral_meds  \\\n",
       "0           1.0             0.0                        0.0   \n",
       "1           3.0             2.0                        0.0   \n",
       "2           1.0             1.0                        0.0   \n",
       "3           1.0             1.0                        0.0   \n",
       "4           2.0             1.0                        0.0   \n",
       "\n",
       "   behavioral_avoidance  behavioral_face_mask  behavioral_wash_hands  \\\n",
       "0                   0.0                   0.0                    0.0   \n",
       "1                   1.0                   0.0                    1.0   \n",
       "2                   1.0                   0.0                    0.0   \n",
       "3                   1.0                   0.0                    1.0   \n",
       "4                   1.0                   0.0                    1.0   \n",
       "\n",
       "   behavioral_large_gatherings  behavioral_outside_home  \\\n",
       "0                          0.0                      1.0   \n",
       "1                          0.0                      1.0   \n",
       "2                          0.0                      0.0   \n",
       "3                          1.0                      0.0   \n",
       "4                          1.0                      0.0   \n",
       "\n",
       "   behavioral_touch_face  doctor_recc_h1n1  ...  income_poverty  \\\n",
       "0                    1.0               0.0  ...             2.0   \n",
       "1                    1.0               0.0  ...             2.0   \n",
       "2                    0.0               2.0  ...             0.0   \n",
       "3                    0.0               0.0  ...             2.0   \n",
       "4                    1.0               0.0  ...             0.0   \n",
       "\n",
       "   marital_status  rent_or_own  employment_status  hhs_geo_region  census_msa  \\\n",
       "0             1.0          0.0                1.0             8.0         2.0   \n",
       "1             1.0          1.0                0.0             1.0         0.0   \n",
       "2             1.0          0.0                0.0             9.0         0.0   \n",
       "3             1.0          1.0                1.0             5.0         1.0   \n",
       "4             0.0          0.0                0.0             9.0         0.0   \n",
       "\n",
       "   household_adults  household_children  employment_industry  \\\n",
       "0               0.0                 0.0                 10.0   \n",
       "1               0.0                 0.0                 13.0   \n",
       "2               2.0                 0.0                 15.0   \n",
       "3               0.0                 0.0                 10.0   \n",
       "4               1.0                 0.0                 19.0   \n",
       "\n",
       "   employment_occupation  \n",
       "0                   11.0  \n",
       "1                   20.0  \n",
       "2                   22.0  \n",
       "3                   11.0  \n",
       "4                    5.0  \n",
       "\n",
       "[5 rows x 35 columns]"
      ]
     },
     "execution_count": 118,
     "metadata": {},
     "output_type": "execute_result"
    }
   ],
   "source": [
    "stringcolsimp.head()"
   ]
  },
  {
   "cell_type": "markdown",
   "id": "6281d39e",
   "metadata": {},
   "source": [
    "splitting back the data to train and test"
   ]
  },
  {
   "cell_type": "code",
   "execution_count": 119,
   "id": "b3e7f046",
   "metadata": {},
   "outputs": [],
   "source": [
    "traindf = stringcolsimp.loc[0:26706]"
   ]
  },
  {
   "cell_type": "code",
   "execution_count": 120,
   "id": "8891dcd9",
   "metadata": {},
   "outputs": [],
   "source": [
    "testdf = stringcolsimp.loc[26708:53415]"
   ]
  },
  {
   "cell_type": "code",
   "execution_count": 121,
   "id": "475ac769",
   "metadata": {},
   "outputs": [
    {
     "data": {
      "text/plain": [
       "(26707, 35)"
      ]
     },
     "execution_count": 121,
     "metadata": {},
     "output_type": "execute_result"
    }
   ],
   "source": [
    "traindf.shape"
   ]
  },
  {
   "cell_type": "code",
   "execution_count": 122,
   "id": "573185f9",
   "metadata": {},
   "outputs": [
    {
     "data": {
      "text/plain": [
       "(26707, 35)"
      ]
     },
     "execution_count": 122,
     "metadata": {},
     "output_type": "execute_result"
    }
   ],
   "source": [
    "testdf.shape"
   ]
  },
  {
   "cell_type": "markdown",
   "id": "9ded4603",
   "metadata": {},
   "source": [
    "Data visualisation on seasonal_vaccine"
   ]
  },
  {
   "cell_type": "code",
   "execution_count": 123,
   "id": "31ec48da",
   "metadata": {},
   "outputs": [
    {
     "name": "stderr",
     "output_type": "stream",
     "text": [
      "C:\\ana\\archana\\lib\\site-packages\\seaborn\\_decorators.py:36: FutureWarning: Pass the following variables as keyword args: x, y. From version 0.12, the only valid positional argument will be `data`, and passing other arguments without an explicit keyword will result in an error or misinterpretation.\n",
      "  warnings.warn(\n"
     ]
    },
    {
     "data": {
      "text/plain": [
       "<AxesSubplot:xlabel='seasonal_vaccine', ylabel='sex'>"
      ]
     },
     "execution_count": 123,
     "metadata": {},
     "output_type": "execute_result"
    },
    {
     "data": {
      "image/png": "[encoded data removed]",
      "text/plain": [
       "<Figure size 432x288 with 1 Axes>"
      ]
     },
     "metadata": {
      "needs_background": "light"
     },
     "output_type": "display_data"
    }
   ],
   "source": [
    "import seaborn as sns\n",
    "sns.boxplot(y_labels.seasonal_vaccine,traindf.sex)"
   ]
  },
  {
   "cell_type": "code",
   "execution_count": 124,
   "id": "8acf013f",
   "metadata": {},
   "outputs": [
    {
     "name": "stderr",
     "output_type": "stream",
     "text": [
      "C:\\ana\\archana\\lib\\site-packages\\seaborn\\_decorators.py:36: FutureWarning: Pass the following variables as keyword args: x, y. From version 0.12, the only valid positional argument will be `data`, and passing other arguments without an explicit keyword will result in an error or misinterpretation.\n",
      "  warnings.warn(\n"
     ]
    },
    {
     "data": {
      "text/plain": [
       "<AxesSubplot:xlabel='seasonal_vaccine', ylabel='income_poverty'>"
      ]
     },
     "execution_count": 124,
     "metadata": {},
     "output_type": "execute_result"
    },
    {
     "data": {
      "image/png": "[encoded data removed]",
      "text/plain": [
       "<Figure size 432x288 with 1 Axes>"
      ]
     },
     "metadata": {
      "needs_background": "light"
     },
     "output_type": "display_data"
    }
   ],
   "source": [
    "\n",
    "sns.barplot(y_labels.seasonal_vaccine,traindf.income_poverty)"
   ]
  },
  {
   "cell_type": "code",
   "execution_count": 125,
   "id": "6e2854ed",
   "metadata": {},
   "outputs": [
    {
     "name": "stderr",
     "output_type": "stream",
     "text": [
      "C:\\ana\\archana\\lib\\site-packages\\seaborn\\_decorators.py:36: FutureWarning: Pass the following variables as keyword args: x, y. From version 0.12, the only valid positional argument will be `data`, and passing other arguments without an explicit keyword will result in an error or misinterpretation.\n",
      "  warnings.warn(\n"
     ]
    },
    {
     "data": {
      "text/plain": [
       "<AxesSubplot:xlabel='seasonal_vaccine', ylabel='education'>"
      ]
     },
     "execution_count": 125,
     "metadata": {},
     "output_type": "execute_result"
    },
    {
     "data": {
      "image/png": "[encoded data removed]",
      "text/plain": [
       "<Figure size 432x288 with 1 Axes>"
      ]
     },
     "metadata": {
      "needs_background": "light"
     },
     "output_type": "display_data"
    }
   ],
   "source": [
    "sns.boxplot(y_labels.seasonal_vaccine,traindf.education)"
   ]
  },
  {
   "cell_type": "markdown",
   "id": "254535ca",
   "metadata": {},
   "source": [
    "b.H1N1 Vaccine"
   ]
  },
  {
   "cell_type": "code",
   "execution_count": 126,
   "id": "76ac968e",
   "metadata": {},
   "outputs": [
    {
     "name": "stderr",
     "output_type": "stream",
     "text": [
      "C:\\ana\\archana\\lib\\site-packages\\seaborn\\_decorators.py:36: FutureWarning: Pass the following variables as keyword args: x, y. From version 0.12, the only valid positional argument will be `data`, and passing other arguments without an explicit keyword will result in an error or misinterpretation.\n",
      "  warnings.warn(\n"
     ]
    },
    {
     "data": {
      "text/plain": [
       "<AxesSubplot:xlabel='h1n1_vaccine', ylabel='sex'>"
      ]
     },
     "execution_count": 126,
     "metadata": {},
     "output_type": "execute_result"
    },
    {
     "data": {
      "image/png": "[encoded data removed]",
      "text/plain": [
       "<Figure size 432x288 with 1 Axes>"
      ]
     },
     "metadata": {
      "needs_background": "light"
     },
     "output_type": "display_data"
    }
   ],
   "source": [
    "sns.boxplot(y_labels.h1n1_vaccine,traindf.sex)"
   ]
  },
  {
   "cell_type": "code",
   "execution_count": 127,
   "id": "f3c3debd",
   "metadata": {},
   "outputs": [
    {
     "name": "stderr",
     "output_type": "stream",
     "text": [
      "C:\\ana\\archana\\lib\\site-packages\\seaborn\\_decorators.py:36: FutureWarning: Pass the following variables as keyword args: x, y. From version 0.12, the only valid positional argument will be `data`, and passing other arguments without an explicit keyword will result in an error or misinterpretation.\n",
      "  warnings.warn(\n"
     ]
    },
    {
     "data": {
      "text/plain": [
       "<AxesSubplot:xlabel='h1n1_vaccine', ylabel='income_poverty'>"
      ]
     },
     "execution_count": 127,
     "metadata": {},
     "output_type": "execute_result"
    },
    {
     "data": {
      "image/png": "[encoded data removed]",
      "text/plain": [
       "<Figure size 432x288 with 1 Axes>"
      ]
     },
     "metadata": {
      "needs_background": "light"
     },
     "output_type": "display_data"
    }
   ],
   "source": [
    "sns.barplot(y_labels.h1n1_vaccine,traindf.income_poverty)"
   ]
  },
  {
   "cell_type": "code",
   "execution_count": 128,
   "id": "29d25c17",
   "metadata": {},
   "outputs": [
    {
     "name": "stderr",
     "output_type": "stream",
     "text": [
      "C:\\ana\\archana\\lib\\site-packages\\seaborn\\_decorators.py:36: FutureWarning: Pass the following variables as keyword args: x, y. From version 0.12, the only valid positional argument will be `data`, and passing other arguments without an explicit keyword will result in an error or misinterpretation.\n",
      "  warnings.warn(\n"
     ]
    },
    {
     "data": {
      "text/plain": [
       "<AxesSubplot:xlabel='h1n1_vaccine', ylabel='education'>"
      ]
     },
     "execution_count": 128,
     "metadata": {},
     "output_type": "execute_result"
    },
    {
     "data": {
      "image/png": "[encoded data removed]",
      "text/plain": [
       "<Figure size 432x288 with 1 Axes>"
      ]
     },
     "metadata": {
      "needs_background": "light"
     },
     "output_type": "display_data"
    }
   ],
   "source": [
    "sns.boxplot(y_labels.h1n1_vaccine,traindf.education)"
   ]
  },
  {
   "cell_type": "code",
   "execution_count": 129,
   "id": "c98b85af",
   "metadata": {},
   "outputs": [
    {
     "data": {
      "text/plain": [
       "<AxesSubplot:ylabel='Frequency'>"
      ]
     },
     "execution_count": 129,
     "metadata": {},
     "output_type": "execute_result"
    },
    {
     "data": {
      "image/png": "[encoded data removed]",
      "text/plain": [
       "<Figure size 432x288 with 1 Axes>"
      ]
     },
     "metadata": {
      "needs_background": "light"
     },
     "output_type": "display_data"
    }
   ],
   "source": [
    "y_labels.seasonal_vaccine.plot(kind='hist')\n",
    "# Balanced Data"
   ]
  },
  {
   "cell_type": "code",
   "execution_count": 132,
   "id": "d594e277",
   "metadata": {},
   "outputs": [
    {
     "data": {
      "text/plain": [
       "0    14272\n",
       "1    12435\n",
       "Name: seasonal_vaccine, dtype: int64"
      ]
     },
     "execution_count": 132,
     "metadata": {},
     "output_type": "execute_result"
    }
   ],
   "source": [
    "y_labels.seasonal_vaccine.value_counts()"
   ]
  },
  {
   "cell_type": "code",
   "execution_count": 133,
   "id": "c288df94",
   "metadata": {},
   "outputs": [
    {
     "data": {
      "text/plain": [
       "<AxesSubplot:ylabel='Frequency'>"
      ]
     },
     "execution_count": 133,
     "metadata": {},
     "output_type": "execute_result"
    },
    {
     "data": {
      "image/png": "[encoded data removed]",
      "text/plain": [
       "<Figure size 432x288 with 1 Axes>"
      ]
     },
     "metadata": {
      "needs_background": "light"
     },
     "output_type": "display_data"
    }
   ],
   "source": [
    "y_labels.h1n1_vaccine.plot(kind='hist')\n",
    "# Imbalance Data"
   ]
  },
  {
   "cell_type": "markdown",
   "id": "545ad2a7",
   "metadata": {},
   "source": [
    "Model Building and Idealogy :\n",
    "As there are two binary variables to target, Let's create a classification model for each variable separately.\n",
    "The variable seasonal vaccine is balanced, whereas the h1n1 vaccine variable is not.\n",
    "Let's use SMOTE to balance the h1n1 vaccine variable."
   ]
  },
  {
   "cell_type": "code",
   "execution_count": 283,
   "id": "383713c7",
   "metadata": {},
   "outputs": [],
   "source": [
    "y=y_labels.seasonal_vaccine"
   ]
  },
  {
   "cell_type": "code",
   "execution_count": 284,
   "id": "7e7de4f8",
   "metadata": {},
   "outputs": [],
   "source": [
    "X=traindf"
   ]
  },
  {
   "cell_type": "code",
   "execution_count": 136,
   "id": "f8d0886c",
   "metadata": {},
   "outputs": [],
   "source": [
    "from sklearn.metrics import classification_report\n",
    "from sklearn.model_selection import cross_val_score\n",
    "from sklearn.metrics import plot_roc_curve"
   ]
  },
  {
   "cell_type": "code",
   "execution_count": 137,
   "id": "970db69d",
   "metadata": {},
   "outputs": [],
   "source": [
    "from sklearn.linear_model import LogisticRegression"
   ]
  },
  {
   "cell_type": "code",
   "execution_count": 138,
   "id": "cd4953e9",
   "metadata": {},
   "outputs": [],
   "source": [
    "logit = LogisticRegression(max_iter=400)\n"
   ]
  },
  {
   "cell_type": "code",
   "execution_count": 139,
   "id": "d641fcec",
   "metadata": {},
   "outputs": [],
   "source": [
    "logitmodel= logit.fit(X,y)"
   ]
  },
  {
   "cell_type": "code",
   "execution_count": 140,
   "id": "f8fec853",
   "metadata": {},
   "outputs": [
    {
     "data": {
      "text/plain": [
       "0.7611113191298161"
      ]
     },
     "execution_count": 140,
     "metadata": {},
     "output_type": "execute_result"
    }
   ],
   "source": [
    "logitmodel.score(X,y)\n"
   ]
  },
  {
   "cell_type": "code",
   "execution_count": 141,
   "id": "e7d6b545",
   "metadata": {},
   "outputs": [
    {
     "data": {
      "text/plain": [
       "array([0.75720704, 0.7588918 , 0.76427635, 0.76652312, 0.75360419])"
      ]
     },
     "execution_count": 141,
     "metadata": {},
     "output_type": "execute_result"
    }
   ],
   "source": [
    "cross_val_score(logitmodel,X,y)"
   ]
  },
  {
   "cell_type": "code",
   "execution_count": 142,
   "id": "1caf6843",
   "metadata": {},
   "outputs": [
    {
     "data": {
      "text/plain": [
       "0.7601005"
      ]
     },
     "execution_count": 142,
     "metadata": {},
     "output_type": "execute_result"
    }
   ],
   "source": [
    "np.mean([0.75720704, 0.7588918 , 0.76427635, 0.76652312, 0.75360419])"
   ]
  },
  {
   "cell_type": "code",
   "execution_count": 143,
   "id": "48782642",
   "metadata": {},
   "outputs": [],
   "source": [
    "logitpredict = logitmodel.predict(X)"
   ]
  },
  {
   "cell_type": "code",
   "execution_count": 144,
   "id": "e1227721",
   "metadata": {},
   "outputs": [],
   "source": [
    "logitpredict_test = logitmodel.predict_proba(testdf)\n"
   ]
  },
  {
   "cell_type": "code",
   "execution_count": 145,
   "id": "a4267ef6",
   "metadata": {},
   "outputs": [],
   "source": [
    "pd.DataFrame(logitpredict_test).to_csv(\"seaslog.csv\")"
   ]
  },
  {
   "cell_type": "code",
   "execution_count": 146,
   "id": "43c6943b",
   "metadata": {},
   "outputs": [
    {
     "name": "stdout",
     "output_type": "stream",
     "text": [
      "              precision    recall  f1-score   support\n",
      "\n",
      "           0       0.77      0.79      0.78     14272\n",
      "           1       0.75      0.73      0.74     12435\n",
      "\n",
      "    accuracy                           0.76     26707\n",
      "   macro avg       0.76      0.76      0.76     26707\n",
      "weighted avg       0.76      0.76      0.76     26707\n",
      "\n"
     ]
    }
   ],
   "source": [
    "print(classification_report(y,logitpredict))"
   ]
  },
  {
   "cell_type": "code",
   "execution_count": 147,
   "id": "001d4c1c",
   "metadata": {},
   "outputs": [
    {
     "name": "stderr",
     "output_type": "stream",
     "text": [
      "C:\\ana\\archana\\lib\\site-packages\\sklearn\\utils\\deprecation.py:87: FutureWarning: Function plot_roc_curve is deprecated; Function :func:`plot_roc_curve` is deprecated in 1.0 and will be removed in 1.2. Use one of the class methods: :meth:`sklearn.metrics.RocCurveDisplay.from_predictions` or :meth:`sklearn.metrics.RocCurveDisplay.from_estimator`.\n",
      "  warnings.warn(msg, category=FutureWarning)\n"
     ]
    },
    {
     "data": {
      "text/plain": [
       "<sklearn.metrics._plot.roc_curve.RocCurveDisplay at 0x1cf435891c0>"
      ]
     },
     "execution_count": 147,
     "metadata": {},
     "output_type": "execute_result"
    },
    {
     "data": {
      "image/png": "[encoded data removed]",
      "text/plain": [
       "<Figure size 432x288 with 1 Axes>"
      ]
     },
     "metadata": {
      "needs_background": "light"
     },
     "output_type": "display_data"
    }
   ],
   "source": [
    "plot_roc_curve(logitmodel,X,y)"
   ]
  },
  {
   "cell_type": "markdown",
   "id": "c45192d1",
   "metadata": {},
   "source": [
    "Decision Tree Classification for Seasonal Vaccine"
   ]
  },
  {
   "cell_type": "code",
   "execution_count": 148,
   "id": "bba7a266",
   "metadata": {},
   "outputs": [],
   "source": [
    "from sklearn.tree import DecisionTreeClassifier"
   ]
  },
  {
   "cell_type": "code",
   "execution_count": 149,
   "id": "ffb88ae0",
   "metadata": {},
   "outputs": [],
   "source": [
    "dtc = DecisionTreeClassifier(max_depth=15)"
   ]
  },
  {
   "cell_type": "code",
   "execution_count": 152,
   "id": "f3760f61",
   "metadata": {},
   "outputs": [],
   "source": [
    "dtcmodel = dtc.fit(X,y)\n"
   ]
  },
  {
   "cell_type": "code",
   "execution_count": 153,
   "id": "182b0044",
   "metadata": {},
   "outputs": [
    {
     "data": {
      "text/plain": [
       "0.9226045606020893"
      ]
     },
     "execution_count": 153,
     "metadata": {},
     "output_type": "execute_result"
    }
   ],
   "source": [
    "dtcmodel.score(X,y)\n"
   ]
  },
  {
   "cell_type": "code",
   "execution_count": 154,
   "id": "beac4bd1",
   "metadata": {},
   "outputs": [
    {
     "data": {
      "text/plain": [
       "array([0.70160988, 0.71714714, 0.70866879, 0.7227111 , 0.69986894])"
      ]
     },
     "execution_count": 154,
     "metadata": {},
     "output_type": "execute_result"
    }
   ],
   "source": [
    "cross_val_score(dtcmodel,X,y)"
   ]
  },
  {
   "cell_type": "code",
   "execution_count": 184,
   "id": "54e06549",
   "metadata": {},
   "outputs": [
    {
     "data": {
      "text/plain": [
       "0.7100011700000001"
      ]
     },
     "execution_count": 184,
     "metadata": {},
     "output_type": "execute_result"
    }
   ],
   "source": [
    "np.mean([0.70160988, 0.71714714, 0.70866879, 0.7227111 , 0.69986894])"
   ]
  },
  {
   "cell_type": "code",
   "execution_count": 185,
   "id": "1187b38a",
   "metadata": {},
   "outputs": [],
   "source": [
    "dtcpredict = dtcmodel.predict(X)"
   ]
  },
  {
   "cell_type": "code",
   "execution_count": 186,
   "id": "77b641ea",
   "metadata": {},
   "outputs": [],
   "source": [
    "dtcpredict_test = dtcmodel.predict(testdf)"
   ]
  },
  {
   "cell_type": "code",
   "execution_count": 187,
   "id": "20007bda",
   "metadata": {},
   "outputs": [],
   "source": [
    "pd.DataFrame(dtcpredict_test).to_csv(\"dtcseas.csv\")"
   ]
  },
  {
   "cell_type": "code",
   "execution_count": 188,
   "id": "7680d604",
   "metadata": {},
   "outputs": [
    {
     "name": "stdout",
     "output_type": "stream",
     "text": [
      "              precision    recall  f1-score   support\n",
      "\n",
      "           0       0.93      0.93      0.93     14272\n",
      "           1       0.92      0.91      0.92     12435\n",
      "\n",
      "    accuracy                           0.92     26707\n",
      "   macro avg       0.92      0.92      0.92     26707\n",
      "weighted avg       0.92      0.92      0.92     26707\n",
      "\n"
     ]
    }
   ],
   "source": [
    "print(classification_report(y,dtcpredict))"
   ]
  },
  {
   "cell_type": "code",
   "execution_count": 189,
   "id": "c562918d",
   "metadata": {},
   "outputs": [
    {
     "name": "stderr",
     "output_type": "stream",
     "text": [
      "C:\\ana\\archana\\lib\\site-packages\\sklearn\\utils\\deprecation.py:87: FutureWarning: Function plot_roc_curve is deprecated; Function :func:`plot_roc_curve` is deprecated in 1.0 and will be removed in 1.2. Use one of the class methods: :meth:`sklearn.metrics.RocCurveDisplay.from_predictions` or :meth:`sklearn.metrics.RocCurveDisplay.from_estimator`.\n",
      "  warnings.warn(msg, category=FutureWarning)\n"
     ]
    },
    {
     "data": {
      "text/plain": [
       "<sklearn.metrics._plot.roc_curve.RocCurveDisplay at 0x1cf45459520>"
      ]
     },
     "execution_count": 189,
     "metadata": {},
     "output_type": "execute_result"
    },
    {
     "data": {
      "image/png": "[encoded data removed]",
      "text/plain": [
       "<Figure size 432x288 with 1 Axes>"
      ]
     },
     "metadata": {
      "needs_background": "light"
     },
     "output_type": "display_data"
    }
   ],
   "source": [
    "plot_roc_curve(dtc,X,y)"
   ]
  },
  {
   "cell_type": "markdown",
   "id": "4bbb540a",
   "metadata": {},
   "source": [
    "Random Forest Classification for Seasonal Vaccine"
   ]
  },
  {
   "cell_type": "code",
   "execution_count": 190,
   "id": "9cd429cb",
   "metadata": {},
   "outputs": [],
   "source": [
    "from sklearn.ensemble import RandomForestClassifier"
   ]
  },
  {
   "cell_type": "code",
   "execution_count": 191,
   "id": "5cc5c78f",
   "metadata": {},
   "outputs": [],
   "source": [
    "rfc = RandomForestClassifier(n_estimators=3)"
   ]
  },
  {
   "cell_type": "code",
   "execution_count": 192,
   "id": "3928f853",
   "metadata": {},
   "outputs": [],
   "source": [
    "rfcmodel = rfc.fit(X,y)"
   ]
  },
  {
   "cell_type": "code",
   "execution_count": 193,
   "id": "489bcdfb",
   "metadata": {},
   "outputs": [
    {
     "data": {
      "text/plain": [
       "0.9462687684876624"
      ]
     },
     "execution_count": 193,
     "metadata": {},
     "output_type": "execute_result"
    }
   ],
   "source": [
    "rfcmodel.score(X,y)"
   ]
  },
  {
   "cell_type": "code",
   "execution_count": 194,
   "id": "5fc4059f",
   "metadata": {},
   "outputs": [
    {
     "data": {
      "text/plain": [
       "array([0.71789592, 0.71471359, 0.71952818, 0.7105411 , 0.7051114 ])"
      ]
     },
     "execution_count": 194,
     "metadata": {},
     "output_type": "execute_result"
    }
   ],
   "source": [
    "cross_val_score(rfcmodel,X,y)"
   ]
  },
  {
   "cell_type": "code",
   "execution_count": 195,
   "id": "b6a0412f",
   "metadata": {},
   "outputs": [
    {
     "data": {
      "text/plain": [
       "0.7135580380000001"
      ]
     },
     "execution_count": 195,
     "metadata": {},
     "output_type": "execute_result"
    }
   ],
   "source": [
    "np.mean([0.71789592, 0.71471359, 0.71952818, 0.7105411 , 0.7051114 ])"
   ]
  },
  {
   "cell_type": "code",
   "execution_count": 196,
   "id": "eed12784",
   "metadata": {},
   "outputs": [],
   "source": [
    "rfcpredict = rfcmodel.predict(X)"
   ]
  },
  {
   "cell_type": "code",
   "execution_count": 197,
   "id": "7df37efd",
   "metadata": {},
   "outputs": [],
   "source": [
    "rfcpredict_test = rfcmodel.predict_proba(testdf)"
   ]
  },
  {
   "cell_type": "code",
   "execution_count": 198,
   "id": "e53e728f",
   "metadata": {},
   "outputs": [],
   "source": [
    "pd.DataFrame(rfcpredict_test).to_csv('rfcseas.csv')"
   ]
  },
  {
   "cell_type": "code",
   "execution_count": 199,
   "id": "2bc1c845",
   "metadata": {},
   "outputs": [
    {
     "name": "stdout",
     "output_type": "stream",
     "text": [
      "              precision    recall  f1-score   support\n",
      "\n",
      "           0       0.95      0.95      0.95     14272\n",
      "           1       0.94      0.94      0.94     12435\n",
      "\n",
      "    accuracy                           0.95     26707\n",
      "   macro avg       0.95      0.95      0.95     26707\n",
      "weighted avg       0.95      0.95      0.95     26707\n",
      "\n"
     ]
    }
   ],
   "source": [
    "print(classification_report(y,rfcpredict))\n"
   ]
  },
  {
   "cell_type": "code",
   "execution_count": 200,
   "id": "be8ab02e",
   "metadata": {},
   "outputs": [
    {
     "name": "stderr",
     "output_type": "stream",
     "text": [
      "C:\\ana\\archana\\lib\\site-packages\\sklearn\\utils\\deprecation.py:87: FutureWarning: Function plot_roc_curve is deprecated; Function :func:`plot_roc_curve` is deprecated in 1.0 and will be removed in 1.2. Use one of the class methods: :meth:`sklearn.metrics.RocCurveDisplay.from_predictions` or :meth:`sklearn.metrics.RocCurveDisplay.from_estimator`.\n",
      "  warnings.warn(msg, category=FutureWarning)\n"
     ]
    },
    {
     "data": {
      "text/plain": [
       "<sklearn.metrics._plot.roc_curve.RocCurveDisplay at 0x1cf44124a90>"
      ]
     },
     "execution_count": 200,
     "metadata": {},
     "output_type": "execute_result"
    },
    {
     "data": {
      "image/png": "[encoded data removed]",
      "text/plain": [
       "<Figure size 432x288 with 1 Axes>"
      ]
     },
     "metadata": {
      "needs_background": "light"
     },
     "output_type": "display_data"
    }
   ],
   "source": [
    "plot_roc_curve(rfcmodel,X,y)"
   ]
  },
  {
   "cell_type": "markdown",
   "id": "98b57343",
   "metadata": {},
   "source": [
    "Gradient Boosting Classification for Seasonal Vaccine"
   ]
  },
  {
   "cell_type": "code",
   "execution_count": 285,
   "id": "9f853f55",
   "metadata": {},
   "outputs": [],
   "source": [
    "from sklearn.ensemble import GradientBoostingClassifier"
   ]
  },
  {
   "cell_type": "code",
   "execution_count": 286,
   "id": "3cc0711c",
   "metadata": {},
   "outputs": [],
   "source": [
    "gbm= GradientBoostingClassifier(n_estimators=400)"
   ]
  },
  {
   "cell_type": "code",
   "execution_count": 287,
   "id": "d5a4c970",
   "metadata": {},
   "outputs": [],
   "source": [
    "gbmmodel = gbm.fit(X,y)"
   ]
  },
  {
   "cell_type": "code",
   "execution_count": 288,
   "id": "9a483ed9",
   "metadata": {},
   "outputs": [
    {
     "data": {
      "text/plain": [
       "0.8051447186130977"
      ]
     },
     "execution_count": 288,
     "metadata": {},
     "output_type": "execute_result"
    }
   ],
   "source": [
    "gbmmodel.score(X,y)"
   ]
  },
  {
   "cell_type": "code",
   "execution_count": 289,
   "id": "0ba2b713",
   "metadata": {},
   "outputs": [
    {
     "data": {
      "text/plain": [
       "array([0.78453763, 0.78435043, 0.79179929, 0.7931099 , 0.78805467])"
      ]
     },
     "execution_count": 289,
     "metadata": {},
     "output_type": "execute_result"
    }
   ],
   "source": [
    "cross_val_score(gbmmodel,X,y)"
   ]
  },
  {
   "cell_type": "code",
   "execution_count": 290,
   "id": "449c3f52",
   "metadata": {},
   "outputs": [
    {
     "data": {
      "text/plain": [
       "0.7883329379999999"
      ]
     },
     "execution_count": 290,
     "metadata": {},
     "output_type": "execute_result"
    }
   ],
   "source": [
    "np.mean([0.78453763, 0.78435043, 0.79161206, 0.7931099 , 0.78805467])"
   ]
  },
  {
   "cell_type": "code",
   "execution_count": 291,
   "id": "4ae8d890",
   "metadata": {},
   "outputs": [],
   "source": [
    "gbmpredict = gbmmodel.predict(X)"
   ]
  },
  {
   "cell_type": "code",
   "execution_count": 292,
   "id": "109ab720",
   "metadata": {},
   "outputs": [],
   "source": [
    "gbmpredict_test = gbmmodel.predict_proba(testdf)"
   ]
  },
  {
   "cell_type": "code",
   "execution_count": 293,
   "id": "80fbe325",
   "metadata": {},
   "outputs": [],
   "source": [
    "pd.DataFrame(gbmpredict_test).to_csv('gbmseas.csv')\n"
   ]
  },
  {
   "cell_type": "code",
   "execution_count": 294,
   "id": "17012c8f",
   "metadata": {},
   "outputs": [
    {
     "name": "stdout",
     "output_type": "stream",
     "text": [
      "              precision    recall  f1-score   support\n",
      "\n",
      "           0       0.81      0.83      0.82     14272\n",
      "           1       0.80      0.78      0.79     12435\n",
      "\n",
      "    accuracy                           0.81     26707\n",
      "   macro avg       0.80      0.80      0.80     26707\n",
      "weighted avg       0.81      0.81      0.80     26707\n",
      "\n"
     ]
    }
   ],
   "source": [
    "print(classification_report(y,gbmpredict))"
   ]
  },
  {
   "cell_type": "code",
   "execution_count": 295,
   "id": "e06cae5d",
   "metadata": {},
   "outputs": [
    {
     "name": "stderr",
     "output_type": "stream",
     "text": [
      "C:\\ana\\archana\\lib\\site-packages\\sklearn\\utils\\deprecation.py:87: FutureWarning: Function plot_roc_curve is deprecated; Function :func:`plot_roc_curve` is deprecated in 1.0 and will be removed in 1.2. Use one of the class methods: :meth:`sklearn.metrics.RocCurveDisplay.from_predictions` or :meth:`sklearn.metrics.RocCurveDisplay.from_estimator`.\n",
      "  warnings.warn(msg, category=FutureWarning)\n"
     ]
    },
    {
     "data": {
      "text/plain": [
       "<sklearn.metrics._plot.roc_curve.RocCurveDisplay at 0x1cf46a69640>"
      ]
     },
     "execution_count": 295,
     "metadata": {},
     "output_type": "execute_result"
    },
    {
     "data": {
      "image/png": "[encoded data removed]",
      "text/plain": [
       "<Figure size 432x288 with 1 Axes>"
      ]
     },
     "metadata": {
      "needs_background": "light"
     },
     "output_type": "display_data"
    }
   ],
   "source": [
    "plot_roc_curve(gbmmodel,X,y)"
   ]
  },
  {
   "cell_type": "markdown",
   "id": "53fd54b6",
   "metadata": {},
   "source": [
    "Balancing the Imbalance data using Smote"
   ]
  },
  {
   "cell_type": "code",
   "execution_count": 266,
   "id": "b6d5153f",
   "metadata": {},
   "outputs": [],
   "source": [
    "y1=y_labels.h1n1_vaccine"
   ]
  },
  {
   "cell_type": "code",
   "execution_count": 267,
   "id": "600bffdc",
   "metadata": {},
   "outputs": [],
   "source": [
    "from imblearn.over_sampling import SMOTE"
   ]
  },
  {
   "cell_type": "code",
   "execution_count": 268,
   "id": "42970dda",
   "metadata": {},
   "outputs": [],
   "source": [
    "smote = SMOTE(random_state=60)"
   ]
  },
  {
   "cell_type": "code",
   "execution_count": 269,
   "id": "5fe33350",
   "metadata": {},
   "outputs": [],
   "source": [
    "X_smote,y_smote = smote.fit_resample(X,y1)"
   ]
  },
  {
   "cell_type": "code",
   "execution_count": 270,
   "id": "80a38ee3",
   "metadata": {},
   "outputs": [
    {
     "name": "stdout",
     "output_type": "stream",
     "text": [
      "h1n1_vaccine\n",
      "0               21033\n",
      "1                5674\n",
      "dtype: int64\n",
      "h1n1_vaccine\n",
      "0               21033\n",
      "1               21033\n",
      "dtype: int64\n"
     ]
    }
   ],
   "source": [
    "print(pd.DataFrame(y1).value_counts())\n",
    "print(pd.DataFrame(y_smote).value_counts())"
   ]
  },
  {
   "cell_type": "markdown",
   "id": "915d1244",
   "metadata": {},
   "source": [
    "Logistic Regression for H1N1 Vaccine\n"
   ]
  },
  {
   "cell_type": "code",
   "execution_count": 271,
   "id": "8f4ac7ec",
   "metadata": {},
   "outputs": [
    {
     "name": "stdout",
     "output_type": "stream",
     "text": [
      "(42066, 35)\n",
      "(42066,)\n"
     ]
    }
   ],
   "source": [
    "print(X_smote.shape)\n",
    "print(y_smote.shape)"
   ]
  },
  {
   "cell_type": "code",
   "execution_count": 227,
   "id": "91fecded",
   "metadata": {},
   "outputs": [],
   "source": [
    "logit2 = LogisticRegression(max_iter=400)"
   ]
  },
  {
   "cell_type": "code",
   "execution_count": 228,
   "id": "17b7f2df",
   "metadata": {},
   "outputs": [],
   "source": [
    "logitmodel_smote = logit2.fit(X_smote,y_smote)\n"
   ]
  },
  {
   "cell_type": "code",
   "execution_count": 229,
   "id": "5449496a",
   "metadata": {},
   "outputs": [
    {
     "data": {
      "text/plain": [
       "0.7633956164123045"
      ]
     },
     "execution_count": 229,
     "metadata": {},
     "output_type": "execute_result"
    }
   ],
   "source": [
    "logitmodel_smote.score(X_smote,y_smote)"
   ]
  },
  {
   "cell_type": "code",
   "execution_count": 230,
   "id": "322e4c04",
   "metadata": {},
   "outputs": [
    {
     "data": {
      "text/plain": [
       "array([0.75112907, 0.75799358, 0.76595745, 0.77154404, 0.7677404 ])"
      ]
     },
     "execution_count": 230,
     "metadata": {},
     "output_type": "execute_result"
    }
   ],
   "source": [
    "cross_val_score(logitmodel_smote,X_smote,y_smote)"
   ]
  },
  {
   "cell_type": "code",
   "execution_count": 231,
   "id": "d38aa2ac",
   "metadata": {},
   "outputs": [
    {
     "data": {
      "text/plain": [
       "0.762872908"
      ]
     },
     "execution_count": 231,
     "metadata": {},
     "output_type": "execute_result"
    }
   ],
   "source": [
    "np.mean([0.75112907, 0.75799358, 0.76595745, 0.77154404, 0.7677404 ])"
   ]
  },
  {
   "cell_type": "code",
   "execution_count": 232,
   "id": "0e5193a6",
   "metadata": {},
   "outputs": [],
   "source": [
    "logitsmote_predict = logitmodel_smote.predict(X_smote)"
   ]
  },
  {
   "cell_type": "code",
   "execution_count": 234,
   "id": "4c38f554",
   "metadata": {},
   "outputs": [],
   "source": [
    "logitsmote_predict_test = logitmodel_smote.predict_proba(testdf)"
   ]
  },
  {
   "cell_type": "code",
   "execution_count": 235,
   "id": "5fc8e511",
   "metadata": {},
   "outputs": [],
   "source": [
    "pd.DataFrame(logitsmote_predict_test).to_csv('h1n1log.csv')"
   ]
  },
  {
   "cell_type": "code",
   "execution_count": 236,
   "id": "e071fe0d",
   "metadata": {},
   "outputs": [
    {
     "name": "stdout",
     "output_type": "stream",
     "text": [
      "              precision    recall  f1-score   support\n",
      "\n",
      "           0       0.76      0.76      0.76     21033\n",
      "           1       0.76      0.77      0.76     21033\n",
      "\n",
      "    accuracy                           0.76     42066\n",
      "   macro avg       0.76      0.76      0.76     42066\n",
      "weighted avg       0.76      0.76      0.76     42066\n",
      "\n"
     ]
    }
   ],
   "source": [
    "print(classification_report(y_smote,logitsmote_predict))"
   ]
  },
  {
   "cell_type": "code",
   "execution_count": 237,
   "id": "d39d0168",
   "metadata": {},
   "outputs": [
    {
     "name": "stderr",
     "output_type": "stream",
     "text": [
      "C:\\ana\\archana\\lib\\site-packages\\sklearn\\utils\\deprecation.py:87: FutureWarning: Function plot_roc_curve is deprecated; Function :func:`plot_roc_curve` is deprecated in 1.0 and will be removed in 1.2. Use one of the class methods: :meth:`sklearn.metrics.RocCurveDisplay.from_predictions` or :meth:`sklearn.metrics.RocCurveDisplay.from_estimator`.\n",
      "  warnings.warn(msg, category=FutureWarning)\n"
     ]
    },
    {
     "data": {
      "text/plain": [
       "<sklearn.metrics._plot.roc_curve.RocCurveDisplay at 0x1cf46a57dc0>"
      ]
     },
     "execution_count": 237,
     "metadata": {},
     "output_type": "execute_result"
    },
    {
     "data": {
      "image/png": "[encoded data removed]",
      "text/plain": [
       "<Figure size 432x288 with 1 Axes>"
      ]
     },
     "metadata": {
      "needs_background": "light"
     },
     "output_type": "display_data"
    }
   ],
   "source": [
    "plot_roc_curve(logitmodel_smote,X_smote,y_smote)"
   ]
  },
  {
   "cell_type": "markdown",
   "id": "a518ed40",
   "metadata": {},
   "source": [
    "Decision Tree Classification for H1N1 Vaccine "
   ]
  },
  {
   "cell_type": "code",
   "execution_count": 238,
   "id": "2c2b6e78",
   "metadata": {},
   "outputs": [],
   "source": [
    "treesmote = DecisionTreeClassifier(max_depth=12)"
   ]
  },
  {
   "cell_type": "code",
   "execution_count": 239,
   "id": "e67d8232",
   "metadata": {},
   "outputs": [],
   "source": [
    "treemodel_smote = treesmote.fit(X_smote,y_smote)"
   ]
  },
  {
   "cell_type": "code",
   "execution_count": 240,
   "id": "32809e23",
   "metadata": {},
   "outputs": [
    {
     "data": {
      "text/plain": [
       "0.9146579185090097"
      ]
     },
     "execution_count": 240,
     "metadata": {},
     "output_type": "execute_result"
    }
   ],
   "source": [
    "treemodel_smote.score(X_smote,y_smote)\n"
   ]
  },
  {
   "cell_type": "code",
   "execution_count": 241,
   "id": "be80e4b2",
   "metadata": {},
   "outputs": [
    {
     "data": {
      "text/plain": [
       "array([0.68861421, 0.85558065, 0.92832521, 0.93284203, 0.92654226])"
      ]
     },
     "execution_count": 241,
     "metadata": {},
     "output_type": "execute_result"
    }
   ],
   "source": [
    "cross_val_score(treemodel_smote,X_smote,y_smote)"
   ]
  },
  {
   "cell_type": "code",
   "execution_count": 242,
   "id": "fe864f58",
   "metadata": {},
   "outputs": [
    {
     "data": {
      "text/plain": [
       "0.8666661419999999"
      ]
     },
     "execution_count": 242,
     "metadata": {},
     "output_type": "execute_result"
    }
   ],
   "source": [
    "np.mean([0.68873306, 0.85700701, 0.92891953, 0.93367408, 0.92499703])"
   ]
  },
  {
   "cell_type": "code",
   "execution_count": 243,
   "id": "a12edaf0",
   "metadata": {},
   "outputs": [],
   "source": [
    "treepredict_smote = treemodel_smote.predict(X_smote)"
   ]
  },
  {
   "cell_type": "code",
   "execution_count": 244,
   "id": "ed2077a1",
   "metadata": {},
   "outputs": [],
   "source": [
    "treepredict_smote_test =treemodel_smote.predict_proba(testdf)"
   ]
  },
  {
   "cell_type": "code",
   "execution_count": 245,
   "id": "af3fffc4",
   "metadata": {},
   "outputs": [],
   "source": [
    "pd.DataFrame(treepredict_smote_test).to_csv('h1n1tree.csv')"
   ]
  },
  {
   "cell_type": "code",
   "execution_count": 246,
   "id": "f47e09d6",
   "metadata": {},
   "outputs": [
    {
     "name": "stdout",
     "output_type": "stream",
     "text": [
      "              precision    recall  f1-score   support\n",
      "\n",
      "           0       0.89      0.95      0.92     21033\n",
      "           1       0.94      0.88      0.91     21033\n",
      "\n",
      "    accuracy                           0.91     42066\n",
      "   macro avg       0.92      0.91      0.91     42066\n",
      "weighted avg       0.92      0.91      0.91     42066\n",
      "\n"
     ]
    }
   ],
   "source": [
    "print(classification_report(y_smote,treepredict_smote))"
   ]
  },
  {
   "cell_type": "code",
   "execution_count": 247,
   "id": "8b568202",
   "metadata": {},
   "outputs": [
    {
     "name": "stderr",
     "output_type": "stream",
     "text": [
      "C:\\ana\\archana\\lib\\site-packages\\sklearn\\utils\\deprecation.py:87: FutureWarning: Function plot_roc_curve is deprecated; Function :func:`plot_roc_curve` is deprecated in 1.0 and will be removed in 1.2. Use one of the class methods: :meth:`sklearn.metrics.RocCurveDisplay.from_predictions` or :meth:`sklearn.metrics.RocCurveDisplay.from_estimator`.\n",
      "  warnings.warn(msg, category=FutureWarning)\n"
     ]
    },
    {
     "data": {
      "text/plain": [
       "<sklearn.metrics._plot.roc_curve.RocCurveDisplay at 0x1cf46e45e80>"
      ]
     },
     "execution_count": 247,
     "metadata": {},
     "output_type": "execute_result"
    },
    {
     "data": {
      "image/png": "[encoded data removed]",
      "text/plain": [
       "<Figure size 432x288 with 1 Axes>"
      ]
     },
     "metadata": {
      "needs_background": "light"
     },
     "output_type": "display_data"
    }
   ],
   "source": [
    "plot_roc_curve(treemodel_smote,X_smote,y_smote)"
   ]
  },
  {
   "cell_type": "markdown",
   "id": "ab741f97",
   "metadata": {},
   "source": [
    "Random Forest Classification for H1N1 Vaccine"
   ]
  },
  {
   "cell_type": "code",
   "execution_count": 248,
   "id": "e12dfe28",
   "metadata": {},
   "outputs": [],
   "source": [
    "RFsmote = RandomForestClassifier(n_estimators=10,max_depth=13)"
   ]
  },
  {
   "cell_type": "code",
   "execution_count": 249,
   "id": "53e92b94",
   "metadata": {},
   "outputs": [],
   "source": [
    "RFmodel_smote = RFsmote.fit(X_smote,y_smote)"
   ]
  },
  {
   "cell_type": "code",
   "execution_count": 250,
   "id": "76f61e87",
   "metadata": {},
   "outputs": [
    {
     "data": {
      "text/plain": [
       "0.9387628964008938"
      ]
     },
     "execution_count": 250,
     "metadata": {},
     "output_type": "execute_result"
    }
   ],
   "source": [
    "RFmodel_smote.score(X_smote,y_smote)\n"
   ]
  },
  {
   "cell_type": "code",
   "execution_count": 251,
   "id": "b11947b2",
   "metadata": {},
   "outputs": [
    {
     "data": {
      "text/plain": [
       "array([0.69099121, 0.88054202, 0.95316772, 0.95625817, 0.95067158])"
      ]
     },
     "execution_count": 251,
     "metadata": {},
     "output_type": "execute_result"
    }
   ],
   "source": [
    "cross_val_score(RFmodel_smote,X_smote,y_smote)"
   ]
  },
  {
   "cell_type": "code",
   "execution_count": 252,
   "id": "575e85eb",
   "metadata": {},
   "outputs": [
    {
     "data": {
      "text/plain": [
       "0.8868253860000002"
      ]
     },
     "execution_count": 252,
     "metadata": {},
     "output_type": "execute_result"
    }
   ],
   "source": [
    "np.mean([0.69015926, 0.88291929, 0.95506954, 0.95269226, 0.95328658])"
   ]
  },
  {
   "cell_type": "code",
   "execution_count": 253,
   "id": "00d24f53",
   "metadata": {},
   "outputs": [],
   "source": [
    "RFsmote_predict = RFmodel_smote.predict(X_smote)"
   ]
  },
  {
   "cell_type": "code",
   "execution_count": 254,
   "id": "797275e2",
   "metadata": {},
   "outputs": [],
   "source": [
    "RFsmote_predict_test = RFmodel_smote.predict(testdf)"
   ]
  },
  {
   "cell_type": "code",
   "execution_count": 255,
   "id": "01eec2a2",
   "metadata": {},
   "outputs": [],
   "source": [
    "pd.DataFrame(RFsmote_predict_test).to_csv('h1h1RF.csv')"
   ]
  },
  {
   "cell_type": "code",
   "execution_count": 256,
   "id": "d690bceb",
   "metadata": {},
   "outputs": [
    {
     "name": "stdout",
     "output_type": "stream",
     "text": [
      "              precision    recall  f1-score   support\n",
      "\n",
      "           0       0.92      0.96      0.94     21033\n",
      "           1       0.96      0.91      0.94     21033\n",
      "\n",
      "    accuracy                           0.94     42066\n",
      "   macro avg       0.94      0.94      0.94     42066\n",
      "weighted avg       0.94      0.94      0.94     42066\n",
      "\n"
     ]
    }
   ],
   "source": [
    "print(classification_report(y_smote,RFsmote_predict))"
   ]
  },
  {
   "cell_type": "code",
   "execution_count": 257,
   "id": "737034b7",
   "metadata": {
    "scrolled": true
   },
   "outputs": [
    {
     "name": "stderr",
     "output_type": "stream",
     "text": [
      "C:\\ana\\archana\\lib\\site-packages\\sklearn\\utils\\deprecation.py:87: FutureWarning: Function plot_roc_curve is deprecated; Function :func:`plot_roc_curve` is deprecated in 1.0 and will be removed in 1.2. Use one of the class methods: :meth:`sklearn.metrics.RocCurveDisplay.from_predictions` or :meth:`sklearn.metrics.RocCurveDisplay.from_estimator`.\n",
      "  warnings.warn(msg, category=FutureWarning)\n"
     ]
    },
    {
     "data": {
      "text/plain": [
       "<sklearn.metrics._plot.roc_curve.RocCurveDisplay at 0x1cf46d6cee0>"
      ]
     },
     "execution_count": 257,
     "metadata": {},
     "output_type": "execute_result"
    },
    {
     "data": {
      "image/png": "[encoded data removed]",
      "text/plain": [
       "<Figure size 432x288 with 1 Axes>"
      ]
     },
     "metadata": {
      "needs_background": "light"
     },
     "output_type": "display_data"
    }
   ],
   "source": [
    "plot_roc_curve(RFmodel_smote,X_smote,y_smote)\n"
   ]
  },
  {
   "cell_type": "code",
   "execution_count": null,
   "id": "ddf1029a",
   "metadata": {},
   "outputs": [],
   "source": [
    "gradient boosting classifier for H1N1 vaccine"
   ]
  },
  {
   "cell_type": "code",
   "execution_count": 274,
   "id": "57454a2b",
   "metadata": {},
   "outputs": [],
   "source": [
    "gbm_smote = GradientBoostingClassifier(n_estimators=400)"
   ]
  },
  {
   "cell_type": "code",
   "execution_count": 275,
   "id": "777df2a1",
   "metadata": {},
   "outputs": [],
   "source": [
    "gbmmodel_smote = gbm_smote.fit(X_smote,y_smote)"
   ]
  },
  {
   "cell_type": "code",
   "execution_count": 276,
   "id": "725fffa8",
   "metadata": {},
   "outputs": [
    {
     "data": {
      "text/plain": [
       "0.9160129320591451"
      ]
     },
     "execution_count": 276,
     "metadata": {},
     "output_type": "execute_result"
    }
   ],
   "source": [
    "gbmmodel_smote.score(X_smote,y_smote)"
   ]
  },
  {
   "cell_type": "code",
   "execution_count": 277,
   "id": "ad2a5c62",
   "metadata": {},
   "outputs": [
    {
     "data": {
      "text/plain": [
       "array([0.64535298, 0.88553429, 0.96576726, 0.96648045, 0.96315226])"
      ]
     },
     "execution_count": 277,
     "metadata": {},
     "output_type": "execute_result"
    }
   ],
   "source": [
    "cross_val_score(gbmmodel_smote,X_smote,y_smote)"
   ]
  },
  {
   "cell_type": "code",
   "execution_count": 164,
   "id": "7744ec02",
   "metadata": {},
   "outputs": [
    {
     "data": {
      "text/plain": [
       "0.8852573959999999"
      ]
     },
     "execution_count": 164,
     "metadata": {},
     "output_type": "execute_result"
    }
   ],
   "source": [
    "np.mean([0.64761112, 0.88553429, 0.9656484 , 0.96552954, 0.96196363])"
   ]
  },
  {
   "cell_type": "code",
   "execution_count": 278,
   "id": "dcf10e3b",
   "metadata": {},
   "outputs": [],
   "source": [
    "gbmpredict_smote = gbmmodel_smote.predict(X_smote)"
   ]
  },
  {
   "cell_type": "code",
   "execution_count": 279,
   "id": "5093eec0",
   "metadata": {},
   "outputs": [],
   "source": [
    "gbmpredict_smote_test = gbmmodel_smote.predict_proba(testdf)"
   ]
  },
  {
   "cell_type": "code",
   "execution_count": 280,
   "id": "6c35da6b",
   "metadata": {},
   "outputs": [],
   "source": [
    "pd.DataFrame(gbmpredict_smote_test).to_csv('h1n1gbm.csv')"
   ]
  },
  {
   "cell_type": "code",
   "execution_count": 281,
   "id": "8efa0c5e",
   "metadata": {},
   "outputs": [
    {
     "name": "stdout",
     "output_type": "stream",
     "text": [
      "              precision    recall  f1-score   support\n",
      "\n",
      "           0       0.89      0.95      0.92     21033\n",
      "           1       0.95      0.88      0.91     21033\n",
      "\n",
      "    accuracy                           0.92     42066\n",
      "   macro avg       0.92      0.92      0.92     42066\n",
      "weighted avg       0.92      0.92      0.92     42066\n",
      "\n"
     ]
    }
   ],
   "source": [
    "print(classification_report(y_smote,gbmpredict_smote))"
   ]
  },
  {
   "cell_type": "code",
   "execution_count": 282,
   "id": "3c4536af",
   "metadata": {},
   "outputs": [
    {
     "name": "stderr",
     "output_type": "stream",
     "text": [
      "C:\\ana\\archana\\lib\\site-packages\\sklearn\\utils\\deprecation.py:87: FutureWarning: Function plot_roc_curve is deprecated; Function :func:`plot_roc_curve` is deprecated in 1.0 and will be removed in 1.2. Use one of the class methods: :meth:`sklearn.metrics.RocCurveDisplay.from_predictions` or :meth:`sklearn.metrics.RocCurveDisplay.from_estimator`.\n",
      "  warnings.warn(msg, category=FutureWarning)\n"
     ]
    },
    {
     "data": {
      "text/plain": [
       "<sklearn.metrics._plot.roc_curve.RocCurveDisplay at 0x1cf46ab9040>"
      ]
     },
     "execution_count": 282,
     "metadata": {},
     "output_type": "execute_result"
    },
    {
     "data": {
      "image/png": "[encoded data removed]",
      "text/plain": [
       "<Figure size 432x288 with 1 Axes>"
      ]
     },
     "metadata": {
      "needs_background": "light"
     },
     "output_type": "display_data"
    }
   ],
   "source": [
    "plot_roc_curve(gbmmodel_smote,X_smote,y_smote)"
   ]
  },
  {
   "cell_type": "code",
   "execution_count": 1,
   "id": "80b84828",
   "metadata": {},
   "outputs": [],
   "source": [
    "from PIL import Image"
   ]
  },
  {
   "cell_type": "code",
   "execution_count": 2,
   "id": "c77a95cc",
   "metadata": {},
   "outputs": [],
   "source": [
    "img = Image.open('report.png')"
   ]
  },
  {
   "cell_type": "code",
   "execution_count": 3,
   "id": "f450e96e",
   "metadata": {},
   "outputs": [
    {
     "data": {
      "image/png": "[encoded data removed]",
      "text/plain": [
       "<PIL.PngImagePlugin.PngImageFile image mode=RGBA size=1056x552 at 0x1A49070D280>"
      ]
     },
     "execution_count": 3,
     "metadata": {},
     "output_type": "execute_result"
    }
   ],
   "source": [
    "img"
   ]
  },
  {
   "cell_type": "markdown",
   "id": "cda3941d",
   "metadata": {},
   "source": [
    "conclusion:prediction of the two flu shot learning predict H1N1 and Seasonal vaccines  for seasonal vaccine Random forest classifier performance with 94% and for H1N1 vaccine is 93%"
   ]
  },
  {
   "cell_type": "code",
   "execution_count": null,
   "id": "01b5be07",
   "metadata": {},
   "outputs": [],
   "source": []
  }
 ],
 "metadata": {
  "kernelspec": {
   "display_name": "Python 3 (ipykernel)",
   "language": "python",
   "name": "python3"
  },
  "language_info": {
   "codemirror_mode": {
    "name": "ipython",
    "version": 3
   },
   "file_extension": ".py",
   "mimetype": "text/x-python",
   "name": "python",
   "nbconvert_exporter": "python",
   "pygments_lexer": "ipython3",
   "version": "3.9.7"
  }
 },
 "nbformat": 4,
 "nbformat_minor": 5
}
